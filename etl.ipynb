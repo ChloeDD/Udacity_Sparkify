{
 "cells": [
  {
   "cell_type": "markdown",
   "metadata": {},
   "source": [
    "# ETL Processes\n",
    "Use this notebook to develop the ETL process for each of your tables before completing the `etl.py` file to load the whole datasets."
   ]
  },
  {
   "cell_type": "code",
   "execution_count": 95,
   "metadata": {},
   "outputs": [],
   "source": [
    "import os\n",
    "import glob\n",
    "import sys\n",
    "import psycopg2\n",
    "import pandas as pd\n",
    "\n",
    "from sql_queries import *\n",
    "#import sql_queries as sq\n",
    "#from importlib import reload\n",
    "#reload(sq)\n",
    "#print(sq.songplay_table_insert)\n",
    "#print(songplay_table_insert)"
   ]
  },
  {
   "cell_type": "code",
   "execution_count": 132,
   "metadata": {},
   "outputs": [],
   "source": [
    "conn = psycopg2.connect(\"host=127.0.0.1 dbname=sparkifydb user=student password=student\")\n",
    "cur = conn.cursor()"
   ]
  },
  {
   "cell_type": "code",
   "execution_count": 97,
   "metadata": {},
   "outputs": [],
   "source": [
    "def get_files(filepath):\n",
    "    all_files = []\n",
    "    for root, dirs, files in os.walk(filepath):\n",
    "        files = glob.glob(os.path.join(root,'*.json'))\n",
    "        for f in files :\n",
    "            all_files.append(os.path.abspath(f))\n",
    "    \n",
    "    return all_files"
   ]
  },
  {
   "cell_type": "markdown",
   "metadata": {},
   "source": [
    "# Process `song_data`\n",
    "In this first part, you'll perform ETL on the first dataset, `song_data`, to create the `songs` and `artists` dimensional tables.\n",
    "\n",
    "Let's perform ETL on a single song file and load a single record into each table to start.\n",
    "- Use the `get_files` function provided above to get a list of all song JSON files in `data/song_data`\n",
    "- Select the first song in this list\n",
    "- Read the song file and view the data"
   ]
  },
  {
   "cell_type": "code",
   "execution_count": 98,
   "metadata": {},
   "outputs": [],
   "source": [
    "song_files = get_files('data/song_data')\n",
    "#print(song_files)"
   ]
  },
  {
   "cell_type": "code",
   "execution_count": 99,
   "metadata": {},
   "outputs": [],
   "source": [
    "filepath = song_files[0]"
   ]
  },
  {
   "cell_type": "code",
   "execution_count": 100,
   "metadata": {},
   "outputs": [
    {
     "data": {
      "text/html": [
       "<div>\n",
       "<style scoped>\n",
       "    .dataframe tbody tr th:only-of-type {\n",
       "        vertical-align: middle;\n",
       "    }\n",
       "\n",
       "    .dataframe tbody tr th {\n",
       "        vertical-align: top;\n",
       "    }\n",
       "\n",
       "    .dataframe thead th {\n",
       "        text-align: right;\n",
       "    }\n",
       "</style>\n",
       "<table border=\"1\" class=\"dataframe\">\n",
       "  <thead>\n",
       "    <tr style=\"text-align: right;\">\n",
       "      <th></th>\n",
       "      <th>artist_id</th>\n",
       "      <th>artist_latitude</th>\n",
       "      <th>artist_location</th>\n",
       "      <th>artist_longitude</th>\n",
       "      <th>artist_name</th>\n",
       "      <th>duration</th>\n",
       "      <th>num_songs</th>\n",
       "      <th>song_id</th>\n",
       "      <th>title</th>\n",
       "      <th>year</th>\n",
       "    </tr>\n",
       "  </thead>\n",
       "  <tbody>\n",
       "    <tr>\n",
       "      <th>0</th>\n",
       "      <td>AR7G5I41187FB4CE6C</td>\n",
       "      <td>NaN</td>\n",
       "      <td>London, England</td>\n",
       "      <td>NaN</td>\n",
       "      <td>Adam Ant</td>\n",
       "      <td>233.40363</td>\n",
       "      <td>1</td>\n",
       "      <td>SONHOTT12A8C13493C</td>\n",
       "      <td>Something Girls</td>\n",
       "      <td>1982</td>\n",
       "    </tr>\n",
       "  </tbody>\n",
       "</table>\n",
       "</div>"
      ],
      "text/plain": [
       "            artist_id  artist_latitude  artist_location  artist_longitude  \\\n",
       "0  AR7G5I41187FB4CE6C              NaN  London, England               NaN   \n",
       "\n",
       "  artist_name   duration  num_songs             song_id            title  year  \n",
       "0    Adam Ant  233.40363          1  SONHOTT12A8C13493C  Something Girls  1982  "
      ]
     },
     "execution_count": 100,
     "metadata": {},
     "output_type": "execute_result"
    }
   ],
   "source": [
    "df = pd.read_json(filepath, lines=True)\n",
    "df.head()"
   ]
  },
  {
   "cell_type": "markdown",
   "metadata": {},
   "source": [
    "## #1: `songs` Table\n",
    "#### Extract Data for Songs Table\n",
    "- Select columns for song ID, title, artist ID, year, and duration\n",
    "- Use `df.values` to select just the values from the dataframe\n",
    "- Index to select the first (only) record in the dataframe\n",
    "- Convert the array to a list and set it to `song_data`"
   ]
  },
  {
   "cell_type": "code",
   "execution_count": 102,
   "metadata": {},
   "outputs": [
    {
     "data": {
      "text/plain": [
       "['SONHOTT12A8C13493C',\n",
       " 'Something Girls',\n",
       " 'AR7G5I41187FB4CE6C',\n",
       " 1982,\n",
       " 233.40363]"
      ]
     },
     "execution_count": 102,
     "metadata": {},
     "output_type": "execute_result"
    }
   ],
   "source": [
    "song_data = df[['song_id','title','artist_id','year','duration']].values[0].tolist()\n",
    "song_data"
   ]
  },
  {
   "cell_type": "markdown",
   "metadata": {},
   "source": [
    "#### Insert Record into Song Table\n",
    "Implement the `song_table_insert` query in `sql_queries.py` and run the cell below to insert a record for this song into the `songs` table. Remember to run `create_tables.py` before running the cell below to ensure you've created/resetted the `songs` table in the sparkify database."
   ]
  },
  {
   "cell_type": "code",
   "execution_count": 103,
   "metadata": {},
   "outputs": [],
   "source": [
    "cur.execute(song_table_insert, song_data)\n",
    "conn.commit()"
   ]
  },
  {
   "cell_type": "markdown",
   "metadata": {},
   "source": [
    "Run `test.ipynb` to see if you've successfully added a record to this table."
   ]
  },
  {
   "cell_type": "markdown",
   "metadata": {},
   "source": [
    "## #2: `artists` Table\n",
    "#### Extract Data for Artists Table\n",
    "- Select columns for artist ID, name, location, latitude, and longitude\n",
    "- Use `df.values` to select just the values from the dataframe\n",
    "- Index to select the first (only) record in the dataframe\n",
    "- Convert the array to a list and set it to `artist_data`"
   ]
  },
  {
   "cell_type": "code",
   "execution_count": 104,
   "metadata": {},
   "outputs": [
    {
     "data": {
      "text/plain": [
       "['AR7G5I41187FB4CE6C', 'Adam Ant', 'London, England', nan, nan]"
      ]
     },
     "execution_count": 104,
     "metadata": {},
     "output_type": "execute_result"
    }
   ],
   "source": [
    "artist_data = df[['artist_id','artist_name','artist_location','artist_latitude','artist_longitude']].values[0].tolist()\n",
    "artist_data"
   ]
  },
  {
   "cell_type": "markdown",
   "metadata": {},
   "source": [
    "#### Insert Record into Artist Table\n",
    "Implement the `artist_table_insert` query in `sql_queries.py` and run the cell below to insert a record for this song's artist into the `artists` table. Remember to run `create_tables.py` before running the cell below to ensure you've created/resetted the `artists` table in the sparkify database."
   ]
  },
  {
   "cell_type": "code",
   "execution_count": 105,
   "metadata": {},
   "outputs": [],
   "source": [
    "cur.execute(artist_table_insert, artist_data)\n",
    "conn.commit()"
   ]
  },
  {
   "cell_type": "markdown",
   "metadata": {},
   "source": [
    "Run `test.ipynb` to see if you've successfully added a record to this table."
   ]
  },
  {
   "cell_type": "markdown",
   "metadata": {},
   "source": [
    "# Process `log_data`\n",
    "In this part, you'll perform ETL on the second dataset, `log_data`, to create the `time` and `users` dimensional tables, as well as the `songplays` fact table.\n",
    "\n",
    "Let's perform ETL on a single log file and load a single record into each table.\n",
    "- Use the `get_files` function provided above to get a list of all log JSON files in `data/log_data`\n",
    "- Select the first log file in this list\n",
    "- Read the log file and view the data"
   ]
  },
  {
   "cell_type": "code",
   "execution_count": 106,
   "metadata": {},
   "outputs": [],
   "source": [
    "log_files = get_files('data/log_data')"
   ]
  },
  {
   "cell_type": "code",
   "execution_count": 107,
   "metadata": {},
   "outputs": [],
   "source": [
    "filepath = log_files[0]"
   ]
  },
  {
   "cell_type": "code",
   "execution_count": 120,
   "metadata": {},
   "outputs": [
    {
     "data": {
      "text/html": [
       "<div>\n",
       "<style scoped>\n",
       "    .dataframe tbody tr th:only-of-type {\n",
       "        vertical-align: middle;\n",
       "    }\n",
       "\n",
       "    .dataframe tbody tr th {\n",
       "        vertical-align: top;\n",
       "    }\n",
       "\n",
       "    .dataframe thead th {\n",
       "        text-align: right;\n",
       "    }\n",
       "</style>\n",
       "<table border=\"1\" class=\"dataframe\">\n",
       "  <thead>\n",
       "    <tr style=\"text-align: right;\">\n",
       "      <th></th>\n",
       "      <th>artist</th>\n",
       "      <th>auth</th>\n",
       "      <th>firstName</th>\n",
       "      <th>gender</th>\n",
       "      <th>itemInSession</th>\n",
       "      <th>lastName</th>\n",
       "      <th>length</th>\n",
       "      <th>level</th>\n",
       "      <th>location</th>\n",
       "      <th>method</th>\n",
       "      <th>page</th>\n",
       "      <th>registration</th>\n",
       "      <th>sessionId</th>\n",
       "      <th>song</th>\n",
       "      <th>status</th>\n",
       "      <th>ts</th>\n",
       "      <th>userAgent</th>\n",
       "      <th>userId</th>\n",
       "    </tr>\n",
       "  </thead>\n",
       "  <tbody>\n",
       "    <tr>\n",
       "      <th>0</th>\n",
       "      <td>Frumpies</td>\n",
       "      <td>Logged In</td>\n",
       "      <td>Anabelle</td>\n",
       "      <td>F</td>\n",
       "      <td>0</td>\n",
       "      <td>Simpson</td>\n",
       "      <td>134.47791</td>\n",
       "      <td>free</td>\n",
       "      <td>Philadelphia-Camden-Wilmington, PA-NJ-DE-MD</td>\n",
       "      <td>PUT</td>\n",
       "      <td>NextSong</td>\n",
       "      <td>1.541044e+12</td>\n",
       "      <td>455</td>\n",
       "      <td>Fuck Kitty</td>\n",
       "      <td>200</td>\n",
       "      <td>1541903636796</td>\n",
       "      <td>\"Mozilla/5.0 (Macintosh; Intel Mac OS X 10_9_4...</td>\n",
       "      <td>69</td>\n",
       "    </tr>\n",
       "    <tr>\n",
       "      <th>1</th>\n",
       "      <td>Kenny G with Peabo Bryson</td>\n",
       "      <td>Logged In</td>\n",
       "      <td>Anabelle</td>\n",
       "      <td>F</td>\n",
       "      <td>1</td>\n",
       "      <td>Simpson</td>\n",
       "      <td>264.75057</td>\n",
       "      <td>free</td>\n",
       "      <td>Philadelphia-Camden-Wilmington, PA-NJ-DE-MD</td>\n",
       "      <td>PUT</td>\n",
       "      <td>NextSong</td>\n",
       "      <td>1.541044e+12</td>\n",
       "      <td>455</td>\n",
       "      <td>By The Time This Night Is Over</td>\n",
       "      <td>200</td>\n",
       "      <td>1541903770796</td>\n",
       "      <td>\"Mozilla/5.0 (Macintosh; Intel Mac OS X 10_9_4...</td>\n",
       "      <td>69</td>\n",
       "    </tr>\n",
       "    <tr>\n",
       "      <th>2</th>\n",
       "      <td>Biffy Clyro</td>\n",
       "      <td>Logged In</td>\n",
       "      <td>Anabelle</td>\n",
       "      <td>F</td>\n",
       "      <td>2</td>\n",
       "      <td>Simpson</td>\n",
       "      <td>189.83138</td>\n",
       "      <td>free</td>\n",
       "      <td>Philadelphia-Camden-Wilmington, PA-NJ-DE-MD</td>\n",
       "      <td>PUT</td>\n",
       "      <td>NextSong</td>\n",
       "      <td>1.541044e+12</td>\n",
       "      <td>455</td>\n",
       "      <td>God &amp; Satan</td>\n",
       "      <td>200</td>\n",
       "      <td>1541904034796</td>\n",
       "      <td>\"Mozilla/5.0 (Macintosh; Intel Mac OS X 10_9_4...</td>\n",
       "      <td>69</td>\n",
       "    </tr>\n",
       "    <tr>\n",
       "      <th>3</th>\n",
       "      <td>None</td>\n",
       "      <td>Logged In</td>\n",
       "      <td>Lily</td>\n",
       "      <td>F</td>\n",
       "      <td>0</td>\n",
       "      <td>Burns</td>\n",
       "      <td>NaN</td>\n",
       "      <td>free</td>\n",
       "      <td>New York-Newark-Jersey City, NY-NJ-PA</td>\n",
       "      <td>GET</td>\n",
       "      <td>Home</td>\n",
       "      <td>1.540621e+12</td>\n",
       "      <td>456</td>\n",
       "      <td>None</td>\n",
       "      <td>200</td>\n",
       "      <td>1541910841796</td>\n",
       "      <td>\"Mozilla/5.0 (Windows NT 6.1; WOW64) AppleWebK...</td>\n",
       "      <td>32</td>\n",
       "    </tr>\n",
       "    <tr>\n",
       "      <th>4</th>\n",
       "      <td>HIM</td>\n",
       "      <td>Logged In</td>\n",
       "      <td>Lily</td>\n",
       "      <td>F</td>\n",
       "      <td>1</td>\n",
       "      <td>Burns</td>\n",
       "      <td>212.06159</td>\n",
       "      <td>free</td>\n",
       "      <td>New York-Newark-Jersey City, NY-NJ-PA</td>\n",
       "      <td>PUT</td>\n",
       "      <td>NextSong</td>\n",
       "      <td>1.540621e+12</td>\n",
       "      <td>456</td>\n",
       "      <td>Beautiful</td>\n",
       "      <td>200</td>\n",
       "      <td>1541910973796</td>\n",
       "      <td>\"Mozilla/5.0 (Windows NT 6.1; WOW64) AppleWebK...</td>\n",
       "      <td>32</td>\n",
       "    </tr>\n",
       "  </tbody>\n",
       "</table>\n",
       "</div>"
      ],
      "text/plain": [
       "                      artist       auth firstName gender  itemInSession  \\\n",
       "0                   Frumpies  Logged In  Anabelle      F              0   \n",
       "1  Kenny G with Peabo Bryson  Logged In  Anabelle      F              1   \n",
       "2                Biffy Clyro  Logged In  Anabelle      F              2   \n",
       "3                       None  Logged In      Lily      F              0   \n",
       "4                        HIM  Logged In      Lily      F              1   \n",
       "\n",
       "  lastName     length level                                     location  \\\n",
       "0  Simpson  134.47791  free  Philadelphia-Camden-Wilmington, PA-NJ-DE-MD   \n",
       "1  Simpson  264.75057  free  Philadelphia-Camden-Wilmington, PA-NJ-DE-MD   \n",
       "2  Simpson  189.83138  free  Philadelphia-Camden-Wilmington, PA-NJ-DE-MD   \n",
       "3    Burns        NaN  free        New York-Newark-Jersey City, NY-NJ-PA   \n",
       "4    Burns  212.06159  free        New York-Newark-Jersey City, NY-NJ-PA   \n",
       "\n",
       "  method      page  registration  sessionId                            song  \\\n",
       "0    PUT  NextSong  1.541044e+12        455                      Fuck Kitty   \n",
       "1    PUT  NextSong  1.541044e+12        455  By The Time This Night Is Over   \n",
       "2    PUT  NextSong  1.541044e+12        455                     God & Satan   \n",
       "3    GET      Home  1.540621e+12        456                            None   \n",
       "4    PUT  NextSong  1.540621e+12        456                       Beautiful   \n",
       "\n",
       "   status             ts                                          userAgent  \\\n",
       "0     200  1541903636796  \"Mozilla/5.0 (Macintosh; Intel Mac OS X 10_9_4...   \n",
       "1     200  1541903770796  \"Mozilla/5.0 (Macintosh; Intel Mac OS X 10_9_4...   \n",
       "2     200  1541904034796  \"Mozilla/5.0 (Macintosh; Intel Mac OS X 10_9_4...   \n",
       "3     200  1541910841796  \"Mozilla/5.0 (Windows NT 6.1; WOW64) AppleWebK...   \n",
       "4     200  1541910973796  \"Mozilla/5.0 (Windows NT 6.1; WOW64) AppleWebK...   \n",
       "\n",
       "  userId  \n",
       "0     69  \n",
       "1     69  \n",
       "2     69  \n",
       "3     32  \n",
       "4     32  "
      ]
     },
     "execution_count": 120,
     "metadata": {},
     "output_type": "execute_result"
    }
   ],
   "source": [
    "df = pd.read_json(filepath,lines=True)\n",
    "df.head()"
   ]
  },
  {
   "cell_type": "markdown",
   "metadata": {},
   "source": [
    "## #3: `time` Table\n",
    "#### Extract Data for Time Table\n",
    "- Filter records by `NextSong` action\n",
    "- Convert the `ts` timestamp column to datetime\n",
    "  - Hint: the current timestamp is in milliseconds\n",
    "- Extract the timestamp, hour, day, week of year, month, year, and weekday from the `ts` column and set `time_data` to a list containing these values in order\n",
    "  - Hint: use pandas' [`dt` attribute](https://pandas.pydata.org/pandas-docs/stable/reference/api/pandas.Series.dt.html) to access easily datetimelike properties.\n",
    "- Specify labels for these columns and set to `column_labels`\n",
    "- Create a dataframe, `time_df,` containing the time data for this file by combining `column_labels` and `time_data` into a dictionary and converting this into a dataframe"
   ]
  },
  {
   "cell_type": "code",
   "execution_count": 109,
   "metadata": {},
   "outputs": [],
   "source": [
    "#print(pd.to_datetime(df['ts'],unit='ms').dt.weekday)\n",
    "time_data=[]"
   ]
  },
  {
   "cell_type": "code",
   "execution_count": 124,
   "metadata": {},
   "outputs": [
    {
     "data": {
      "text/html": [
       "<div>\n",
       "<style scoped>\n",
       "    .dataframe tbody tr th:only-of-type {\n",
       "        vertical-align: middle;\n",
       "    }\n",
       "\n",
       "    .dataframe tbody tr th {\n",
       "        vertical-align: top;\n",
       "    }\n",
       "\n",
       "    .dataframe thead th {\n",
       "        text-align: right;\n",
       "    }\n",
       "</style>\n",
       "<table border=\"1\" class=\"dataframe\">\n",
       "  <thead>\n",
       "    <tr style=\"text-align: right;\">\n",
       "      <th></th>\n",
       "      <th>artist</th>\n",
       "      <th>auth</th>\n",
       "      <th>firstName</th>\n",
       "      <th>gender</th>\n",
       "      <th>itemInSession</th>\n",
       "      <th>lastName</th>\n",
       "      <th>length</th>\n",
       "      <th>level</th>\n",
       "      <th>location</th>\n",
       "      <th>method</th>\n",
       "      <th>page</th>\n",
       "      <th>registration</th>\n",
       "      <th>sessionId</th>\n",
       "      <th>song</th>\n",
       "      <th>status</th>\n",
       "      <th>ts</th>\n",
       "      <th>userAgent</th>\n",
       "      <th>userId</th>\n",
       "    </tr>\n",
       "  </thead>\n",
       "  <tbody>\n",
       "    <tr>\n",
       "      <th>0</th>\n",
       "      <td>Frumpies</td>\n",
       "      <td>Logged In</td>\n",
       "      <td>Anabelle</td>\n",
       "      <td>F</td>\n",
       "      <td>0</td>\n",
       "      <td>Simpson</td>\n",
       "      <td>134.47791</td>\n",
       "      <td>free</td>\n",
       "      <td>Philadelphia-Camden-Wilmington, PA-NJ-DE-MD</td>\n",
       "      <td>PUT</td>\n",
       "      <td>NextSong</td>\n",
       "      <td>1.541044e+12</td>\n",
       "      <td>455</td>\n",
       "      <td>Fuck Kitty</td>\n",
       "      <td>200</td>\n",
       "      <td>1541903636796</td>\n",
       "      <td>\"Mozilla/5.0 (Macintosh; Intel Mac OS X 10_9_4...</td>\n",
       "      <td>69</td>\n",
       "    </tr>\n",
       "    <tr>\n",
       "      <th>1</th>\n",
       "      <td>Kenny G with Peabo Bryson</td>\n",
       "      <td>Logged In</td>\n",
       "      <td>Anabelle</td>\n",
       "      <td>F</td>\n",
       "      <td>1</td>\n",
       "      <td>Simpson</td>\n",
       "      <td>264.75057</td>\n",
       "      <td>free</td>\n",
       "      <td>Philadelphia-Camden-Wilmington, PA-NJ-DE-MD</td>\n",
       "      <td>PUT</td>\n",
       "      <td>NextSong</td>\n",
       "      <td>1.541044e+12</td>\n",
       "      <td>455</td>\n",
       "      <td>By The Time This Night Is Over</td>\n",
       "      <td>200</td>\n",
       "      <td>1541903770796</td>\n",
       "      <td>\"Mozilla/5.0 (Macintosh; Intel Mac OS X 10_9_4...</td>\n",
       "      <td>69</td>\n",
       "    </tr>\n",
       "    <tr>\n",
       "      <th>2</th>\n",
       "      <td>Biffy Clyro</td>\n",
       "      <td>Logged In</td>\n",
       "      <td>Anabelle</td>\n",
       "      <td>F</td>\n",
       "      <td>2</td>\n",
       "      <td>Simpson</td>\n",
       "      <td>189.83138</td>\n",
       "      <td>free</td>\n",
       "      <td>Philadelphia-Camden-Wilmington, PA-NJ-DE-MD</td>\n",
       "      <td>PUT</td>\n",
       "      <td>NextSong</td>\n",
       "      <td>1.541044e+12</td>\n",
       "      <td>455</td>\n",
       "      <td>God &amp; Satan</td>\n",
       "      <td>200</td>\n",
       "      <td>1541904034796</td>\n",
       "      <td>\"Mozilla/5.0 (Macintosh; Intel Mac OS X 10_9_4...</td>\n",
       "      <td>69</td>\n",
       "    </tr>\n",
       "    <tr>\n",
       "      <th>4</th>\n",
       "      <td>HIM</td>\n",
       "      <td>Logged In</td>\n",
       "      <td>Lily</td>\n",
       "      <td>F</td>\n",
       "      <td>1</td>\n",
       "      <td>Burns</td>\n",
       "      <td>212.06159</td>\n",
       "      <td>free</td>\n",
       "      <td>New York-Newark-Jersey City, NY-NJ-PA</td>\n",
       "      <td>PUT</td>\n",
       "      <td>NextSong</td>\n",
       "      <td>1.540621e+12</td>\n",
       "      <td>456</td>\n",
       "      <td>Beautiful</td>\n",
       "      <td>200</td>\n",
       "      <td>1541910973796</td>\n",
       "      <td>\"Mozilla/5.0 (Windows NT 6.1; WOW64) AppleWebK...</td>\n",
       "      <td>32</td>\n",
       "    </tr>\n",
       "    <tr>\n",
       "      <th>5</th>\n",
       "      <td>Matmos</td>\n",
       "      <td>Logged In</td>\n",
       "      <td>Joseph</td>\n",
       "      <td>M</td>\n",
       "      <td>0</td>\n",
       "      <td>Gutierrez</td>\n",
       "      <td>1449.11628</td>\n",
       "      <td>free</td>\n",
       "      <td>Columbia, SC</td>\n",
       "      <td>PUT</td>\n",
       "      <td>NextSong</td>\n",
       "      <td>1.540809e+12</td>\n",
       "      <td>284</td>\n",
       "      <td>Supreme Balloon</td>\n",
       "      <td>200</td>\n",
       "      <td>1541911006796</td>\n",
       "      <td>\"Mozilla/5.0 (Macintosh; Intel Mac OS X 10_9_3...</td>\n",
       "      <td>75</td>\n",
       "    </tr>\n",
       "  </tbody>\n",
       "</table>\n",
       "</div>"
      ],
      "text/plain": [
       "                      artist       auth firstName gender  itemInSession  \\\n",
       "0                   Frumpies  Logged In  Anabelle      F              0   \n",
       "1  Kenny G with Peabo Bryson  Logged In  Anabelle      F              1   \n",
       "2                Biffy Clyro  Logged In  Anabelle      F              2   \n",
       "4                        HIM  Logged In      Lily      F              1   \n",
       "5                     Matmos  Logged In    Joseph      M              0   \n",
       "\n",
       "    lastName      length level                                     location  \\\n",
       "0    Simpson   134.47791  free  Philadelphia-Camden-Wilmington, PA-NJ-DE-MD   \n",
       "1    Simpson   264.75057  free  Philadelphia-Camden-Wilmington, PA-NJ-DE-MD   \n",
       "2    Simpson   189.83138  free  Philadelphia-Camden-Wilmington, PA-NJ-DE-MD   \n",
       "4      Burns   212.06159  free        New York-Newark-Jersey City, NY-NJ-PA   \n",
       "5  Gutierrez  1449.11628  free                                 Columbia, SC   \n",
       "\n",
       "  method      page  registration  sessionId                            song  \\\n",
       "0    PUT  NextSong  1.541044e+12        455                      Fuck Kitty   \n",
       "1    PUT  NextSong  1.541044e+12        455  By The Time This Night Is Over   \n",
       "2    PUT  NextSong  1.541044e+12        455                     God & Satan   \n",
       "4    PUT  NextSong  1.540621e+12        456                       Beautiful   \n",
       "5    PUT  NextSong  1.540809e+12        284                 Supreme Balloon   \n",
       "\n",
       "   status             ts                                          userAgent  \\\n",
       "0     200  1541903636796  \"Mozilla/5.0 (Macintosh; Intel Mac OS X 10_9_4...   \n",
       "1     200  1541903770796  \"Mozilla/5.0 (Macintosh; Intel Mac OS X 10_9_4...   \n",
       "2     200  1541904034796  \"Mozilla/5.0 (Macintosh; Intel Mac OS X 10_9_4...   \n",
       "4     200  1541910973796  \"Mozilla/5.0 (Windows NT 6.1; WOW64) AppleWebK...   \n",
       "5     200  1541911006796  \"Mozilla/5.0 (Macintosh; Intel Mac OS X 10_9_3...   \n",
       "\n",
       "  userId  \n",
       "0     69  \n",
       "1     69  \n",
       "2     69  \n",
       "4     32  \n",
       "5     75  "
      ]
     },
     "execution_count": 124,
     "metadata": {},
     "output_type": "execute_result"
    }
   ],
   "source": [
    "df = df[df['page']=='NextSong']\n",
    "df.head()"
   ]
  },
  {
   "cell_type": "code",
   "execution_count": 111,
   "metadata": {},
   "outputs": [
    {
     "data": {
      "text/plain": [
       "0   2018-11-11 02:33:56.796\n",
       "1   2018-11-11 02:36:10.796\n",
       "2   2018-11-11 02:40:34.796\n",
       "4   2018-11-11 04:36:13.796\n",
       "5   2018-11-11 04:36:46.796\n",
       "Name: ts, dtype: datetime64[ns]"
      ]
     },
     "execution_count": 111,
     "metadata": {},
     "output_type": "execute_result"
    }
   ],
   "source": [
    "t = pd.to_datetime(df['ts'],unit='ms')\n",
    "t.head()"
   ]
  },
  {
   "cell_type": "code",
   "execution_count": 112,
   "metadata": {},
   "outputs": [],
   "source": [
    "time_data = (df['ts'],t.dt.hour,t.dt.day,t.dt.week,t.dt.month,t.dt.year,t.dt.weekday)\n",
    "column_labels = ('start_time', 'hour', 'day', 'week', 'month', 'year', 'weekday')"
   ]
  },
  {
   "cell_type": "code",
   "execution_count": 113,
   "metadata": {},
   "outputs": [],
   "source": [
    "timedata = dict(zip(column_labels,time_data))\n"
   ]
  },
  {
   "cell_type": "code",
   "execution_count": 114,
   "metadata": {},
   "outputs": [
    {
     "data": {
      "text/html": [
       "<div>\n",
       "<style scoped>\n",
       "    .dataframe tbody tr th:only-of-type {\n",
       "        vertical-align: middle;\n",
       "    }\n",
       "\n",
       "    .dataframe tbody tr th {\n",
       "        vertical-align: top;\n",
       "    }\n",
       "\n",
       "    .dataframe thead th {\n",
       "        text-align: right;\n",
       "    }\n",
       "</style>\n",
       "<table border=\"1\" class=\"dataframe\">\n",
       "  <thead>\n",
       "    <tr style=\"text-align: right;\">\n",
       "      <th></th>\n",
       "      <th>start_time</th>\n",
       "      <th>hour</th>\n",
       "      <th>day</th>\n",
       "      <th>week</th>\n",
       "      <th>month</th>\n",
       "      <th>year</th>\n",
       "      <th>weekday</th>\n",
       "    </tr>\n",
       "  </thead>\n",
       "  <tbody>\n",
       "    <tr>\n",
       "      <th>0</th>\n",
       "      <td>1541903636796</td>\n",
       "      <td>2</td>\n",
       "      <td>11</td>\n",
       "      <td>45</td>\n",
       "      <td>11</td>\n",
       "      <td>2018</td>\n",
       "      <td>6</td>\n",
       "    </tr>\n",
       "    <tr>\n",
       "      <th>1</th>\n",
       "      <td>1541903770796</td>\n",
       "      <td>2</td>\n",
       "      <td>11</td>\n",
       "      <td>45</td>\n",
       "      <td>11</td>\n",
       "      <td>2018</td>\n",
       "      <td>6</td>\n",
       "    </tr>\n",
       "    <tr>\n",
       "      <th>2</th>\n",
       "      <td>1541904034796</td>\n",
       "      <td>2</td>\n",
       "      <td>11</td>\n",
       "      <td>45</td>\n",
       "      <td>11</td>\n",
       "      <td>2018</td>\n",
       "      <td>6</td>\n",
       "    </tr>\n",
       "    <tr>\n",
       "      <th>4</th>\n",
       "      <td>1541910973796</td>\n",
       "      <td>4</td>\n",
       "      <td>11</td>\n",
       "      <td>45</td>\n",
       "      <td>11</td>\n",
       "      <td>2018</td>\n",
       "      <td>6</td>\n",
       "    </tr>\n",
       "    <tr>\n",
       "      <th>5</th>\n",
       "      <td>1541911006796</td>\n",
       "      <td>4</td>\n",
       "      <td>11</td>\n",
       "      <td>45</td>\n",
       "      <td>11</td>\n",
       "      <td>2018</td>\n",
       "      <td>6</td>\n",
       "    </tr>\n",
       "  </tbody>\n",
       "</table>\n",
       "</div>"
      ],
      "text/plain": [
       "      start_time  hour  day  week  month  year  weekday\n",
       "0  1541903636796     2   11    45     11  2018        6\n",
       "1  1541903770796     2   11    45     11  2018        6\n",
       "2  1541904034796     2   11    45     11  2018        6\n",
       "4  1541910973796     4   11    45     11  2018        6\n",
       "5  1541911006796     4   11    45     11  2018        6"
      ]
     },
     "execution_count": 114,
     "metadata": {},
     "output_type": "execute_result"
    }
   ],
   "source": [
    "time_df = pd.DataFrame(timedata)\n",
    "time_df.head()"
   ]
  },
  {
   "cell_type": "markdown",
   "metadata": {},
   "source": [
    "#### Insert Records into Time Table\n",
    "Implement the `time_table_insert` query in `sql_queries.py` and run the cell below to insert records for the timestamps in this log file into the `time` table. Remember to run `create_tables.py` before running the cell below to ensure you've created/resetted the `time` table in the sparkify database."
   ]
  },
  {
   "cell_type": "code",
   "execution_count": 115,
   "metadata": {},
   "outputs": [],
   "source": [
    "for i, row in time_df.iterrows():\n",
    "    cur.execute(time_table_insert, list(row))\n",
    "    conn.commit()"
   ]
  },
  {
   "cell_type": "markdown",
   "metadata": {},
   "source": [
    "Run `test.ipynb` to see if you've successfully added records to this table."
   ]
  },
  {
   "cell_type": "markdown",
   "metadata": {},
   "source": [
    "## #4: `users` Table\n",
    "#### Extract Data for Users Table\n",
    "- Select columns for user ID, first name, last name, gender and level and set to `user_df`"
   ]
  },
  {
   "cell_type": "code",
   "execution_count": 116,
   "metadata": {},
   "outputs": [],
   "source": [
    "user_df = df[['userId','firstName','lastName','gender','level']]"
   ]
  },
  {
   "cell_type": "markdown",
   "metadata": {},
   "source": [
    "#### Insert Records into Users Table\n",
    "Implement the `user_table_insert` query in `sql_queries.py` and run the cell below to insert records for the users in this log file into the `users` table. Remember to run `create_tables.py` before running the cell below to ensure you've created/resetted the `users` table in the sparkify database."
   ]
  },
  {
   "cell_type": "code",
   "execution_count": 117,
   "metadata": {},
   "outputs": [],
   "source": [
    "for i, row in user_df.iterrows():\n",
    "    cur.execute(user_table_insert, row)\n",
    "    conn.commit()"
   ]
  },
  {
   "cell_type": "markdown",
   "metadata": {},
   "source": [
    "Run `test.ipynb` to see if you've successfully added records to this table."
   ]
  },
  {
   "cell_type": "markdown",
   "metadata": {},
   "source": [
    "## #5: `songplays` Table\n",
    "#### Extract Data and Songplays Table\n",
    "This one is a little more complicated since information from the songs table, artists table, and original log file are all needed for the `songplays` table. Since the log file does not specify an ID for either the song or the artist, you'll need to get the song ID and artist ID by querying the songs and artists tables to find matches based on song title, artist name, and song duration time.\n",
    "- Implement the `song_select` query in `sql_queries.py` to find the song ID and artist ID based on the title, artist name, and duration of a song.\n",
    "- Select the timestamp, user ID, level, song ID, artist ID, session ID, location, and user agent and set to `songplay_data`\n",
    "\n",
    "#### Insert Records into Songplays Table\n",
    "- Implement the `songplay_table_insert` query and run the cell below to insert records for the songplay actions in this log file into the `songplays` table. Remember to run `create_tables.py` before running the cell below to ensure you've created/resetted the `songplays` table in the sparkify database."
   ]
  },
  {
   "cell_type": "code",
   "execution_count": 131,
   "metadata": {},
   "outputs": [
    {
     "name": "stdout",
     "output_type": "stream",
     "text": [
      "select s.song_id, a.artist_id from songs s, artists a where s.title=(%s) and a.name=(%s) and s.artist_id=a.artist_id and s.duration=(%s);\n",
      "\n",
      "Fuck Kitty artist Frumpies 134.47791\n",
      "select s.song_id, a.artist_id from songs s, artists a where s.title=(%s) and a.name=(%s) and s.artist_id=a.artist_id and s.duration=(%s);\n",
      "\n",
      "By The Time This Night Is Over artist Kenny G with Peabo Bryson 264.75057\n",
      "select s.song_id, a.artist_id from songs s, artists a where s.title=(%s) and a.name=(%s) and s.artist_id=a.artist_id and s.duration=(%s);\n",
      "\n",
      "God & Satan artist Biffy Clyro 189.83138\n",
      "select s.song_id, a.artist_id from songs s, artists a where s.title=(%s) and a.name=(%s) and s.artist_id=a.artist_id and s.duration=(%s);\n",
      "\n",
      "Beautiful artist HIM 212.06159\n",
      "select s.song_id, a.artist_id from songs s, artists a where s.title=(%s) and a.name=(%s) and s.artist_id=a.artist_id and s.duration=(%s);\n",
      "\n",
      "Supreme Balloon artist Matmos 1449.11628\n",
      "select s.song_id, a.artist_id from songs s, artists a where s.title=(%s) and a.name=(%s) and s.artist_id=a.artist_id and s.duration=(%s);\n",
      "\n",
      "The One artist Gary Allan 259.83955\n",
      "select s.song_id, a.artist_id from songs s, artists a where s.title=(%s) and a.name=(%s) and s.artist_id=a.artist_id and s.duration=(%s);\n",
      "\n",
      "Five Roses artist Miracle Fortress 200.9073\n",
      "select s.song_id, a.artist_id from songs s, artists a where s.title=(%s) and a.name=(%s) and s.artist_id=a.artist_id and s.duration=(%s);\n",
      "\n",
      "Cuentale artist Don Omar 261.35465\n",
      "select s.song_id, a.artist_id from songs s, artists a where s.title=(%s) and a.name=(%s) and s.artist_id=a.artist_id and s.duration=(%s);\n",
      "\n",
      "D'Evils artist Jay-Z 212.27057\n",
      "select s.song_id, a.artist_id from songs s, artists a where s.title=(%s) and a.name=(%s) and s.artist_id=a.artist_id and s.duration=(%s);\n",
      "\n",
      "Easily (Album Version) artist Red Hot Chili Peppers 231.33995\n",
      "select s.song_id, a.artist_id from songs s, artists a where s.title=(%s) and a.name=(%s) and s.artist_id=a.artist_id and s.duration=(%s);\n",
      "\n",
      "Rebels of the Sacred Heart artist Flogging Molly 361.9522\n",
      "select s.song_id, a.artist_id from songs s, artists a where s.title=(%s) and a.name=(%s) and s.artist_id=a.artist_id and s.duration=(%s);\n",
      "\n",
      "Now_ Right Now artist Reverend Horton Heat 158.64118\n",
      "select s.song_id, a.artist_id from songs s, artists a where s.title=(%s) and a.name=(%s) and s.artist_id=a.artist_id and s.duration=(%s);\n",
      "\n",
      "I Made A Resolution artist Sea Wolf 232.61995\n",
      "select s.song_id, a.artist_id from songs s, artists a where s.title=(%s) and a.name=(%s) and s.artist_id=a.artist_id and s.duration=(%s);\n",
      "\n",
      "Lucky (Album Version) artist Jason Mraz & Colbie Caillat 189.6224\n",
      "select s.song_id, a.artist_id from songs s, artists a where s.title=(%s) and a.name=(%s) and s.artist_id=a.artist_id and s.duration=(%s);\n",
      "\n",
      "Enough\u0019s Enough artist Jamie Lidell 175.25506\n",
      "select s.song_id, a.artist_id from songs s, artists a where s.title=(%s) and a.name=(%s) and s.artist_id=a.artist_id and s.duration=(%s);\n",
      "\n",
      "Mushaboom (Postal Service Mix) artist Feist 212.79302\n",
      "select s.song_id, a.artist_id from songs s, artists a where s.title=(%s) and a.name=(%s) and s.artist_id=a.artist_id and s.duration=(%s);\n",
      "\n",
      "We're Going Out Tonight artist Sex Slaves 175.51628\n",
      "select s.song_id, a.artist_id from songs s, artists a where s.title=(%s) and a.name=(%s) and s.artist_id=a.artist_id and s.duration=(%s);\n",
      "\n",
      "To Them These Streets Belong artist Rise Against 169.482\n",
      "select s.song_id, a.artist_id from songs s, artists a where s.title=(%s) and a.name=(%s) and s.artist_id=a.artist_id and s.duration=(%s);\n",
      "\n",
      "Get Me Bodied artist BeyoncÃÂ© 359.54893\n",
      "select s.song_id, a.artist_id from songs s, artists a where s.title=(%s) and a.name=(%s) and s.artist_id=a.artist_id and s.duration=(%s);\n",
      "\n",
      "Never Leave Me Alone artist Nate Dogg 356.38812\n",
      "select s.song_id, a.artist_id from songs s, artists a where s.title=(%s) and a.name=(%s) and s.artist_id=a.artist_id and s.duration=(%s);\n",
      "\n",
      "Love Story artist Taylor Swift 233.89995\n",
      "select s.song_id, a.artist_id from songs s, artists a where s.title=(%s) and a.name=(%s) and s.artist_id=a.artist_id and s.duration=(%s);\n",
      "\n",
      "Sweet home Alabama artist Lynyrd Skynyrd 216.60689\n",
      "select s.song_id, a.artist_id from songs s, artists a where s.title=(%s) and a.name=(%s) and s.artist_id=a.artist_id and s.duration=(%s);\n",
      "\n",
      "Caught Out There (Explicit) artist Kelis 293.58975\n",
      "select s.song_id, a.artist_id from songs s, artists a where s.title=(%s) and a.name=(%s) and s.artist_id=a.artist_id and s.duration=(%s);\n",
      "\n",
      "Last Day Of Magic artist The Kills 203.38893\n",
      "select s.song_id, a.artist_id from songs s, artists a where s.title=(%s) and a.name=(%s) and s.artist_id=a.artist_id and s.duration=(%s);\n",
      "\n",
      "What A Feeling artist Collie Buddz featuring Paul Wall 271.62077\n",
      "select s.song_id, a.artist_id from songs s, artists a where s.title=(%s) and a.name=(%s) and s.artist_id=a.artist_id and s.duration=(%s);\n",
      "\n",
      "Fireflies artist Charttraxx Karaoke 225.17506\n",
      "select s.song_id, a.artist_id from songs s, artists a where s.title=(%s) and a.name=(%s) and s.artist_id=a.artist_id and s.duration=(%s);\n",
      "\n",
      "The Funeral (Album Version) artist Band Of Horses 321.14893\n",
      "select s.song_id, a.artist_id from songs s, artists a where s.title=(%s) and a.name=(%s) and s.artist_id=a.artist_id and s.duration=(%s);\n",
      "\n",
      "Clocks artist Coldplay 307.51302\n",
      "select s.song_id, a.artist_id from songs s, artists a where s.title=(%s) and a.name=(%s) and s.artist_id=a.artist_id and s.duration=(%s);\n",
      "\n",
      "Have A Nice Day artist Bon Jovi 228.75383\n",
      "select s.song_id, a.artist_id from songs s, artists a where s.title=(%s) and a.name=(%s) and s.artist_id=a.artist_id and s.duration=(%s);\n",
      "\n",
      "Alive (2006 Remastered Album Version) artist P.O.D. 203.7024\n",
      "select s.song_id, a.artist_id from songs s, artists a where s.title=(%s) and a.name=(%s) and s.artist_id=a.artist_id and s.duration=(%s);\n",
      "\n",
      "Plans (Replanned by Mogwai) artist Bloc Party 222.04036\n",
      "select s.song_id, a.artist_id from songs s, artists a where s.title=(%s) and a.name=(%s) and s.artist_id=a.artist_id and s.duration=(%s);\n",
      "\n",
      "Pa Pa Pa artist Los Prisioneros 211.12118\n",
      "select s.song_id, a.artist_id from songs s, artists a where s.title=(%s) and a.name=(%s) and s.artist_id=a.artist_id and s.duration=(%s);\n",
      "\n",
      "Lots More Stairs artist Octopus Project 175.25506\n",
      "select s.song_id, a.artist_id from songs s, artists a where s.title=(%s) and a.name=(%s) and s.artist_id=a.artist_id and s.duration=(%s);\n",
      "\n",
      "Ecoute Ce Scratch artist Roudoudou 18.41587\n",
      "select s.song_id, a.artist_id from songs s, artists a where s.title=(%s) and a.name=(%s) and s.artist_id=a.artist_id and s.duration=(%s);\n",
      "\n",
      "Tierra Tradicional artist Africando 253.54404\n",
      "select s.song_id, a.artist_id from songs s, artists a where s.title=(%s) and a.name=(%s) and s.artist_id=a.artist_id and s.duration=(%s);\n",
      "\n",
      "Simmons Incorporated artist RUN-DMC Featuring Method Man_ Kenny Cash_ Mike Ransom_ and Jamel Simmons 266.52689\n",
      "select s.song_id, a.artist_id from songs s, artists a where s.title=(%s) and a.name=(%s) and s.artist_id=a.artist_id and s.duration=(%s);\n",
      "\n",
      "I'm Goin' Away artist Graham Coxon 197.14567\n",
      "select s.song_id, a.artist_id from songs s, artists a where s.title=(%s) and a.name=(%s) and s.artist_id=a.artist_id and s.duration=(%s);\n",
      "\n",
      "In The Fade artist Queens Of The Stone Age 231.02649\n",
      "select s.song_id, a.artist_id from songs s, artists a where s.title=(%s) and a.name=(%s) and s.artist_id=a.artist_id and s.duration=(%s);\n",
      "\n",
      "Strawberry AndrÃÂ© (Album Version) artist Dance Gavin Dance 193.30567\n",
      "select s.song_id, a.artist_id from songs s, artists a where s.title=(%s) and a.name=(%s) and s.artist_id=a.artist_id and s.duration=(%s);\n",
      "\n",
      "Eyes As Candles artist Passion Pit 243.69587\n",
      "select s.song_id, a.artist_id from songs s, artists a where s.title=(%s) and a.name=(%s) and s.artist_id=a.artist_id and s.duration=(%s);\n",
      "\n",
      "Let's Get It Started artist Black Eyed Peas 229.61587\n",
      "select s.song_id, a.artist_id from songs s, artists a where s.title=(%s) and a.name=(%s) and s.artist_id=a.artist_id and s.duration=(%s);\n",
      "\n",
      "Ca plane pour moi artist Plastic Bertrand 180.00934\n",
      "select s.song_id, a.artist_id from songs s, artists a where s.title=(%s) and a.name=(%s) and s.artist_id=a.artist_id and s.duration=(%s);\n",
      "\n",
      "Strange Brew artist Cream 166.5824\n",
      "select s.song_id, a.artist_id from songs s, artists a where s.title=(%s) and a.name=(%s) and s.artist_id=a.artist_id and s.duration=(%s);\n",
      "\n",
      "A Message artist Coldplay 284.39465\n",
      "select s.song_id, a.artist_id from songs s, artists a where s.title=(%s) and a.name=(%s) and s.artist_id=a.artist_id and s.duration=(%s);\n",
      "\n",
      "Sweat the Battle Before the Battle Sweats You (Album Version) artist Cute Is What We Aim For 172.22485\n",
      "select s.song_id, a.artist_id from songs s, artists a where s.title=(%s) and a.name=(%s) and s.artist_id=a.artist_id and s.duration=(%s);\n",
      "\n",
      "Of Wolf And Man artist Metallica 256.9922\n",
      "select s.song_id, a.artist_id from songs s, artists a where s.title=(%s) and a.name=(%s) and s.artist_id=a.artist_id and s.duration=(%s);\n",
      "\n",
      "Tape Song artist The Kills 217.70404\n",
      "select s.song_id, a.artist_id from songs s, artists a where s.title=(%s) and a.name=(%s) and s.artist_id=a.artist_id and s.duration=(%s);\n",
      "\n",
      "The Pretender artist Foo Fighters 271.38567\n",
      "select s.song_id, a.artist_id from songs s, artists a where s.title=(%s) and a.name=(%s) and s.artist_id=a.artist_id and s.duration=(%s);\n",
      "\n",
      "Eyen [Chosen by fans on Warp20.net] artist Plaid 260.96281\n",
      "select s.song_id, a.artist_id from songs s, artists a where s.title=(%s) and a.name=(%s) and s.artist_id=a.artist_id and s.duration=(%s);\n",
      "\n",
      "It's New To Me artist The Van Pelt 208.71791\n",
      "select s.song_id, a.artist_id from songs s, artists a where s.title=(%s) and a.name=(%s) and s.artist_id=a.artist_id and s.duration=(%s);\n",
      "\n",
      "Make You Smile artist +44 224.57424\n",
      "select s.song_id, a.artist_id from songs s, artists a where s.title=(%s) and a.name=(%s) and s.artist_id=a.artist_id and s.duration=(%s);\n",
      "\n",
      "I May Never Find artist Chris Brown 275.1473\n",
      "select s.song_id, a.artist_id from songs s, artists a where s.title=(%s) and a.name=(%s) and s.artist_id=a.artist_id and s.duration=(%s);\n",
      "\n",
      "Black Horse And The Cherry Tree (Radio Version) artist KT Tunstall 170.47465\n",
      "select s.song_id, a.artist_id from songs s, artists a where s.title=(%s) and a.name=(%s) and s.artist_id=a.artist_id and s.duration=(%s);\n",
      "\n",
      "Kids In America artist Cascada 184.39791\n",
      "select s.song_id, a.artist_id from songs s, artists a where s.title=(%s) and a.name=(%s) and s.artist_id=a.artist_id and s.duration=(%s);\n",
      "\n",
      "Black Heart Inertia artist Incubus 293.38077\n",
      "select s.song_id, a.artist_id from songs s, artists a where s.title=(%s) and a.name=(%s) and s.artist_id=a.artist_id and s.duration=(%s);\n",
      "\n",
      "Black & Blue artist Miike Snow 220.83873\n",
      "select s.song_id, a.artist_id from songs s, artists a where s.title=(%s) and a.name=(%s) and s.artist_id=a.artist_id and s.duration=(%s);\n",
      "\n",
      "Sala De RecepÃÂ§ÃÂ£o artist Cartola 208.92689\n",
      "select s.song_id, a.artist_id from songs s, artists a where s.title=(%s) and a.name=(%s) and s.artist_id=a.artist_id and s.duration=(%s);\n",
      "\n",
      "Commander In Thief artist Kill The Client 70.68689\n",
      "select s.song_id, a.artist_id from songs s, artists a where s.title=(%s) and a.name=(%s) and s.artist_id=a.artist_id and s.duration=(%s);\n",
      "\n",
      "Woman artist Wolfmother 175.82975\n",
      "select s.song_id, a.artist_id from songs s, artists a where s.title=(%s) and a.name=(%s) and s.artist_id=a.artist_id and s.duration=(%s);\n",
      "\n",
      "Wagon Wheel artist Old Crow Medicine Show 231.73179\n",
      "select s.song_id, a.artist_id from songs s, artists a where s.title=(%s) and a.name=(%s) and s.artist_id=a.artist_id and s.duration=(%s);\n",
      "\n",
      "Debbie artist Architecture In Helsinki 173.73995\n",
      "select s.song_id, a.artist_id from songs s, artists a where s.title=(%s) and a.name=(%s) and s.artist_id=a.artist_id and s.duration=(%s);\n",
      "\n",
      "I Think I'll Live artist Charlie Louvin 170.86649\n",
      "select s.song_id, a.artist_id from songs s, artists a where s.title=(%s) and a.name=(%s) and s.artist_id=a.artist_id and s.duration=(%s);\n",
      "\n",
      "La Derrota de Un Don Juan artist Miguel Morales 270.78485\n",
      "select s.song_id, a.artist_id from songs s, artists a where s.title=(%s) and a.name=(%s) and s.artist_id=a.artist_id and s.duration=(%s);\n",
      "\n",
      "Le Courage Des Oiseaux artist Dominique A 153.20771\n",
      "select s.song_id, a.artist_id from songs s, artists a where s.title=(%s) and a.name=(%s) and s.artist_id=a.artist_id and s.duration=(%s);\n",
      "\n",
      "Run With The Blind artist Cock Sparrer 203.25832\n",
      "select s.song_id, a.artist_id from songs s, artists a where s.title=(%s) and a.name=(%s) and s.artist_id=a.artist_id and s.duration=(%s);\n",
      "\n",
      "I Love You So Much It Hurts artist Jimmy Wakely 165.74649\n",
      "select s.song_id, a.artist_id from songs s, artists a where s.title=(%s) and a.name=(%s) and s.artist_id=a.artist_id and s.duration=(%s);\n",
      "\n",
      "A Little Death Around the Eyes artist Peter Doherty 217.02485\n",
      "select s.song_id, a.artist_id from songs s, artists a where s.title=(%s) and a.name=(%s) and s.artist_id=a.artist_id and s.duration=(%s);\n",
      "\n",
      "Thinking Of You artist Katy Perry 246.41261\n",
      "select s.song_id, a.artist_id from songs s, artists a where s.title=(%s) and a.name=(%s) and s.artist_id=a.artist_id and s.duration=(%s);\n",
      "\n",
      "You Love Me Anyway (Album) artist Sidewalk Prophets 260.62322\n",
      "select s.song_id, a.artist_id from songs s, artists a where s.title=(%s) and a.name=(%s) and s.artist_id=a.artist_id and s.duration=(%s);\n",
      "\n",
      "Torches artist Rise Against 221.17832\n",
      "select s.song_id, a.artist_id from songs s, artists a where s.title=(%s) and a.name=(%s) and s.artist_id=a.artist_id and s.duration=(%s);\n",
      "\n",
      "Wavin'  Flag artist K'Naan 220.49914\n",
      "select s.song_id, a.artist_id from songs s, artists a where s.title=(%s) and a.name=(%s) and s.artist_id=a.artist_id and s.duration=(%s);\n",
      "\n",
      "Holiday artist Patrick Jumpen 208.87465\n",
      "select s.song_id, a.artist_id from songs s, artists a where s.title=(%s) and a.name=(%s) and s.artist_id=a.artist_id and s.duration=(%s);\n",
      "\n",
      "Empire State Of Mind (Part II) Broken Down artist Alicia Keys 216.47628\n"
     ]
    }
   ],
   "source": [
    "for index, row in df.iterrows():\n",
    "    print(song_select)\n",
    "    print(row.song, 'artist',row.artist, row.length)"
   ]
  },
  {
   "cell_type": "code",
   "execution_count": 128,
   "metadata": {},
   "outputs": [],
   "source": [
    "for index, row in df.iterrows():\n",
    "\n",
    "    # get songid and artistid from song and artist tables\n",
    "    results = cur.execute(song_select, (row.song, row.artist, row.length))\n",
    "    \n",
    "    songid, artistid = results if results else None, None\n",
    " \n",
    "    songplay_data=(row.ts,row.userId,row.level,songid,artistid,row.sessionId,row.location,row.userAgent)\n",
    "\n",
    "    cur.execute(songplay_table_insert, songplay_data)\n",
    "    conn.commit()"
   ]
  },
  {
   "cell_type": "markdown",
   "metadata": {},
   "source": [
    "Run `test.ipynb` to see if you've successfully added records to this table."
   ]
  },
  {
   "cell_type": "markdown",
   "metadata": {},
   "source": [
    "# Close Connection to Sparkify Database"
   ]
  },
  {
   "cell_type": "code",
   "execution_count": 129,
   "metadata": {},
   "outputs": [],
   "source": [
    "conn.close()"
   ]
  },
  {
   "cell_type": "markdown",
   "metadata": {},
   "source": [
    "# Implement `etl.py`\n",
    "Use what you've completed in this notebook to implement `etl.py`."
   ]
  },
  {
   "cell_type": "code",
   "execution_count": null,
   "metadata": {},
   "outputs": [],
   "source": []
  }
 ],
 "metadata": {
  "kernelspec": {
   "display_name": "Python 3",
   "language": "python",
   "name": "python3"
  },
  "language_info": {
   "codemirror_mode": {
    "name": "ipython",
    "version": 3
   },
   "file_extension": ".py",
   "mimetype": "text/x-python",
   "name": "python",
   "nbconvert_exporter": "python",
   "pygments_lexer": "ipython3",
   "version": "3.7.1"
  }
 },
 "nbformat": 4,
 "nbformat_minor": 2
}
